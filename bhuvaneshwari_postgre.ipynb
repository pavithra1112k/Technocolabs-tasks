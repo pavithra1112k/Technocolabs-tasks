{
  "nbformat": 4,
  "nbformat_minor": 0,
  "metadata": {
    "colab": {
      "name": "bhuvaneshwari_postgre.ipynb",
      "provenance": [],
      "collapsed_sections": []
    },
    "kernelspec": {
      "name": "python3",
      "display_name": "Python 3"
    },
    "language_info": {
      "name": "python"
    }
  },
  "cells": [
    {
      "cell_type": "code",
      "source": [
        "import psycopg2\n"
      ],
      "metadata": {
        "colab": {
          "base_uri": "https://localhost:8080/"
        },
        "id": "tNFAi-CV3d4T",
        "outputId": "7450ed70-a5d4-49fb-b353-7fe2d5806ca9"
      },
      "execution_count": 4,
      "outputs": [
        {
          "output_type": "stream",
          "name": "stderr",
          "text": [
            "/usr/local/lib/python3.7/dist-packages/psycopg2/__init__.py:144: UserWarning: The psycopg2 wheel package will be renamed from release 2.8; in order to keep installing from binary please use \"pip install psycopg2-binary\" instead. For details see: <http://initd.org/psycopg/docs/install.html#binary-install-from-pypi>.\n",
            "  \"\"\")\n"
          ]
        }
      ]
    },
    {
      "cell_type": "code",
      "execution_count": 7,
      "metadata": {
        "colab": {
          "base_uri": "https://localhost:8080/"
        },
        "id": "21kz5UwK29sw",
        "outputId": "acc73eeb-9529-4acf-9215-18dda383ddbe"
      },
      "outputs": [
        {
          "output_type": "stream",
          "name": "stdout",
          "text": [
            "Error: Could not make connection to the Postgres database\n",
            "could not connect to server: Connection refused\n",
            "\tIs the server running on host \"localhost\" (127.0.0.1) and accepting\n",
            "\tTCP/IP connections on port 5432?\n",
            "could not connect to server: Cannot assign requested address\n",
            "\tIs the server running on host \"localhost\" (::1) and accepting\n",
            "\tTCP/IP connections on port 5432?\n",
            "\n"
          ]
        }
      ],
      "source": [
        "try: \n",
        "    conn = psycopg2.connect(\"host=localhost port=5432 dbname=studentdb user=postgres password=Ram@123\")\n",
        "    print(\"Database connection Done\")\n",
        "except psycopg2.Error as e: \n",
        "    print(\"Error: Could not make connection to the Postgres database\")\n",
        "    print(e)"
      ]
    },
    {
      "cell_type": "code",
      "source": [
        "try: \n",
        "    cur = conn.cursor()\n",
        "    print(\"Connection to curser Done\")\n",
        "except psycopg2.Error as e: \n",
        "    print(\"Error: Could not get curser to the Database\")\n",
        "    print(e)"
      ],
      "metadata": {
        "colab": {
          "base_uri": "https://localhost:8080/",
          "height": 234
        },
        "id": "w-Q41ZJB3dLM",
        "outputId": "2bde1850-f45a-4117-a363-0b15a72509be"
      },
      "execution_count": 6,
      "outputs": [
        {
          "output_type": "error",
          "ename": "NameError",
          "evalue": "ignored",
          "traceback": [
            "\u001b[0;31m---------------------------------------------------------------------------\u001b[0m",
            "\u001b[0;31mNameError\u001b[0m                                 Traceback (most recent call last)",
            "\u001b[0;32m<ipython-input-6-9969f300c6e1>\u001b[0m in \u001b[0;36m<module>\u001b[0;34m()\u001b[0m\n\u001b[1;32m      1\u001b[0m \u001b[0;32mtry\u001b[0m\u001b[0;34m:\u001b[0m\u001b[0;34m\u001b[0m\u001b[0;34m\u001b[0m\u001b[0m\n\u001b[0;32m----> 2\u001b[0;31m     \u001b[0mcur\u001b[0m \u001b[0;34m=\u001b[0m \u001b[0mconn\u001b[0m\u001b[0;34m.\u001b[0m\u001b[0mcursor\u001b[0m\u001b[0;34m(\u001b[0m\u001b[0;34m)\u001b[0m\u001b[0;34m\u001b[0m\u001b[0;34m\u001b[0m\u001b[0m\n\u001b[0m\u001b[1;32m      3\u001b[0m     \u001b[0mprint\u001b[0m\u001b[0;34m(\u001b[0m\u001b[0;34m\"Connection to curser Done\"\u001b[0m\u001b[0;34m)\u001b[0m\u001b[0;34m\u001b[0m\u001b[0;34m\u001b[0m\u001b[0m\n\u001b[1;32m      4\u001b[0m \u001b[0;32mexcept\u001b[0m \u001b[0mpsycopg2\u001b[0m\u001b[0;34m.\u001b[0m\u001b[0mError\u001b[0m \u001b[0;32mas\u001b[0m \u001b[0me\u001b[0m\u001b[0;34m:\u001b[0m\u001b[0;34m\u001b[0m\u001b[0;34m\u001b[0m\u001b[0m\n\u001b[1;32m      5\u001b[0m     \u001b[0mprint\u001b[0m\u001b[0;34m(\u001b[0m\u001b[0;34m\"Error: Could not get curser to the Database\"\u001b[0m\u001b[0;34m)\u001b[0m\u001b[0;34m\u001b[0m\u001b[0;34m\u001b[0m\u001b[0m\n",
            "\u001b[0;31mNameError\u001b[0m: name 'conn' is not defined"
          ]
        }
      ]
    },
    {
      "cell_type": "code",
      "source": [
        "conn.set_session(autocommit=True)\n",
        "print(\"Done\")"
      ],
      "metadata": {
        "id": "6sLPod4w2_Zw"
      },
      "execution_count": null,
      "outputs": []
    },
    {
      "cell_type": "code",
      "source": [
        "try: \n",
        "    cur.execute(\"CREATE TABLE IF NOT EXISTS music_library (album_name varchar, artist_name varchar, year int);\")\n",
        "    print(\"Table creation Done\")\n",
        "except psycopg2.Error as e: \n",
        "    print(\"Error: Issue creating table\")\n",
        "    print (e)"
      ],
      "metadata": {
        "id": "RX116DEj3MgL"
      },
      "execution_count": null,
      "outputs": []
    },
    {
      "cell_type": "code",
      "source": [
        "try: \n",
        "    cur.execute(\"select count(*) from music_library\")\n",
        "except psycopg2.Error as e: \n",
        "    print(\"Error: Issue creating table\")\n",
        "    print (e)\n",
        "    \n",
        "print(cur.fetchall())"
      ],
      "metadata": {
        "id": "QbqfMVGI3Pkn"
      },
      "execution_count": null,
      "outputs": []
    },
    {
      "cell_type": "code",
      "source": [
        "try: \n",
        "    cur.execute(\"INSERT INTO music_library (album_name, artist_name, year) \\\n",
        "                 VALUES (%s, %s, %s)\", \\\n",
        "                 (\"Let It Be\", \"The Beatles\", 1970))\n",
        "    print(\"Row insertion Done\")\n",
        "except psycopg2.Error as e: \n",
        "    print(\"Error: Inserting Rows\")\n",
        "    print (e)\n",
        "    \n",
        "try: \n",
        "    cur.execute(\"INSERT INTO music_library (album_name, artist_name, year) \\\n",
        "                 VALUES (%s, %s, %s)\", \\\n",
        "                 (\"Rubber Soul\", \"The Beatles\", 1965))\n",
        "    print(\"Row insertion Done\")\n",
        "except psycopg2.Error as e: \n",
        "    print(\"Error: Inserting Rows\")\n",
        "    print (e)"
      ],
      "metadata": {
        "id": "8so6uXI23STF"
      },
      "execution_count": null,
      "outputs": []
    },
    {
      "cell_type": "code",
      "source": [
        "try: \n",
        "    cur.execute(\"SELECT * FROM music_library;\")\n",
        "except psycopg2.Error as e: \n",
        "    print(\"Error: select *\")\n",
        "    print (e)\n",
        "\n",
        "row = cur.fetchone()\n",
        "while row:\n",
        "   print(row)\n",
        "   row = cur.fetchone()"
      ],
      "metadata": {
        "id": "hhgyEtjq3UiH"
      },
      "execution_count": null,
      "outputs": []
    },
    {
      "cell_type": "code",
      "source": [
        "try: \n",
        "    cur.execute(\"DROP table music_library\")\n",
        "    print(\"deleting the table Done!\")\n",
        "except psycopg2.Error as e: \n",
        "    print(\"Error: Dropping table\")\n",
        "    print (e)"
      ],
      "metadata": {
        "id": "Cv8SbRZ83ZCv"
      },
      "execution_count": null,
      "outputs": []
    },
    {
      "cell_type": "code",
      "source": [
        ""
      ],
      "metadata": {
        "id": "WIejcW9U44oq"
      },
      "execution_count": null,
      "outputs": []
    },
    {
      "cell_type": "code",
      "source": [
        "cur.close()\n",
        "conn.close()\n",
        "print(\"Closing cursor and connection Done!\")"
      ],
      "metadata": {
        "id": "JV2SStt644Va"
      },
      "execution_count": null,
      "outputs": []
    }
  ]
}