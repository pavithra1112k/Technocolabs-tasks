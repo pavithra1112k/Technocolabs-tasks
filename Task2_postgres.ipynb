{
 "cells": [
  {
   "cell_type": "code",
   "execution_count": 1,
   "id": "0df44c5a",
   "metadata": {},
   "outputs": [],
   "source": [
    "# importing module psycopg2\n",
    "import psycopg2"
   ]
  },
  {
   "cell_type": "code",
   "execution_count": 2,
   "id": "b42dbf8c",
   "metadata": {},
   "outputs": [
    {
     "name": "stdout",
     "output_type": "stream",
     "text": [
      "Database connection Done\n"
     ]
    }
   ],
   "source": [
    "# Creating a connection to the database\n",
    "\n",
    "try: \n",
    "    conn = psycopg2.connect(\"host=localhost port=5432 dbname=studentdb user=postgres password=Ram@123\")\n",
    "    print(\"Database connection Done\")\n",
    "except psycopg2.Error as e: \n",
    "    print(\"Error: Could not make connection to the Postgres database\")\n",
    "    print(e)"
   ]
  },
  {
   "cell_type": "code",
   "execution_count": 3,
   "id": "67ef1461",
   "metadata": {},
   "outputs": [
    {
     "name": "stdout",
     "output_type": "stream",
     "text": [
      "Connection to curser Done\n"
     ]
    }
   ],
   "source": [
    "# Using the connection to get a cursor that can be used to execute queries.\n",
    "\n",
    "try: \n",
    "    cur = conn.cursor()\n",
    "    print(\"Connection to curser Done\")\n",
    "except psycopg2.Error as e: \n",
    "    print(\"Error: Could not get curser to the Database\")\n",
    "    print(e)"
   ]
  },
  {
   "cell_type": "code",
   "execution_count": 4,
   "id": "8af94236",
   "metadata": {},
   "outputs": [
    {
     "name": "stdout",
     "output_type": "stream",
     "text": [
      "Done\n"
     ]
    }
   ],
   "source": [
    "# Use automactic commit so that each action is commited without having to call conn.commit() after each command. \n",
    "# The ability to rollback and commit transactions is a feature of Relational Databases.\n",
    "\n",
    "conn.set_session(autocommit=True)\n",
    "print(\"Done\")"
   ]
  },
  {
   "cell_type": "code",
   "execution_count": 6,
   "id": "ac90219a",
   "metadata": {},
   "outputs": [
    {
     "name": "stdout",
     "output_type": "stream",
     "text": [
      "Table creation Done\n"
     ]
    }
   ],
   "source": [
    "# Creating a table Table Name: music_library containing columns Album Name, Artist Name, Year\n",
    "\n",
    "try: \n",
    "    cur.execute(\"CREATE TABLE IF NOT EXISTS music_library (album_name varchar, artist_name varchar, year int);\")\n",
    "    print(\"Table creation Done\")\n",
    "except psycopg2.Error as e: \n",
    "    print(\"Error: Issue creating table\")\n",
    "    print (e)"
   ]
  },
  {
   "cell_type": "code",
   "execution_count": 8,
   "id": "e26f43bf",
   "metadata": {},
   "outputs": [
    {
     "name": "stdout",
     "output_type": "stream",
     "text": [
      "[(0,)]\n"
     ]
    }
   ],
   "source": [
    "# Checking number of rows in the table\n",
    "\n",
    "try: \n",
    "    cur.execute(\"select count(*) from music_library\")\n",
    "except psycopg2.Error as e: \n",
    "    print(\"Error: Issue creating table\")\n",
    "    print (e)\n",
    "    \n",
    "print(cur.fetchall())"
   ]
  },
  {
   "cell_type": "code",
   "execution_count": 9,
   "id": "be56b65f",
   "metadata": {},
   "outputs": [
    {
     "name": "stdout",
     "output_type": "stream",
     "text": [
      "Row insertion Done\n",
      "Row insertion Done\n"
     ]
    }
   ],
   "source": [
    "# Insering two rows\n",
    "\n",
    "try: \n",
    "    cur.execute(\"INSERT INTO music_library (album_name, artist_name, year) \\\n",
    "                 VALUES (%s, %s, %s)\", \\\n",
    "                 (\"Let It Be\", \"The Beatles\", 1970))\n",
    "    print(\"Row insertion Done\")\n",
    "except psycopg2.Error as e: \n",
    "    print(\"Error: Inserting Rows\")\n",
    "    print (e)\n",
    "    \n",
    "try: \n",
    "    cur.execute(\"INSERT INTO music_library (album_name, artist_name, year) \\\n",
    "                 VALUES (%s, %s, %s)\", \\\n",
    "                 (\"Rubber Soul\", \"The Beatles\", 1965))\n",
    "    print(\"Row insertion Done\")\n",
    "except psycopg2.Error as e: \n",
    "    print(\"Error: Inserting Rows\")\n",
    "    print (e)"
   ]
  },
  {
   "cell_type": "code",
   "execution_count": 10,
   "id": "d798f59d",
   "metadata": {},
   "outputs": [
    {
     "name": "stdout",
     "output_type": "stream",
     "text": [
      "('Let It Be', 'The Beatles', 1970)\n",
      "('Rubber Soul', 'The Beatles', 1965)\n"
     ]
    }
   ],
   "source": [
    "#Output the two rows\n",
    "\n",
    "try: \n",
    "    cur.execute(\"SELECT * FROM music_library;\")\n",
    "except psycopg2.Error as e: \n",
    "    print(\"Error: select *\")\n",
    "    print (e)\n",
    "\n",
    "row = cur.fetchone()\n",
    "while row:\n",
    "   print(row)\n",
    "   row = cur.fetchone()"
   ]
  },
  {
   "cell_type": "code",
   "execution_count": 11,
   "id": "4d63f989",
   "metadata": {},
   "outputs": [
    {
     "name": "stdout",
     "output_type": "stream",
     "text": [
      "deleting the table Done!\n"
     ]
    }
   ],
   "source": [
    "# Drop the table to avoid duplicates and clean up\n",
    "\n",
    "try: \n",
    "    cur.execute(\"DROP table music_library\")\n",
    "    print(\"deleting the table Done!\")\n",
    "except psycopg2.Error as e: \n",
    "    print(\"Error: Dropping table\")\n",
    "    print (e)"
   ]
  },
  {
   "cell_type": "code",
   "execution_count": 12,
   "id": "94e27743",
   "metadata": {},
   "outputs": [
    {
     "name": "stdout",
     "output_type": "stream",
     "text": [
      "Closing cursor and connection Done!\n"
     ]
    }
   ],
   "source": [
    "#Close the cursor and connection.\n",
    "\n",
    "cur.close()\n",
    "conn.close()\n",
    "print(\"Closing cursor and connection Done!\")"
   ]
  },
  {
   "cell_type": "code",
   "execution_count": null,
   "id": "fbd03b34",
   "metadata": {},
   "outputs": [],
   "source": []
  }
 ],
 "metadata": {
  "kernelspec": {
   "display_name": "Python 3 (ipykernel)",
   "language": "python",
   "name": "python3"
  },
  "language_info": {
   "codemirror_mode": {
    "name": "ipython",
    "version": 3
   },
   "file_extension": ".py",
   "mimetype": "text/x-python",
   "name": "python",
   "nbconvert_exporter": "python",
   "pygments_lexer": "ipython3",
   "version": "3.9.7"
  }
 },
 "nbformat": 4,
 "nbformat_minor": 5
}
