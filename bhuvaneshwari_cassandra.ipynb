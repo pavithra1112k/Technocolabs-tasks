{
  "nbformat": 4,
  "nbformat_minor": 0,
  "metadata": {
    "colab": {
      "name": "bhuvaneshwari_cassandra.ipynb",
      "provenance": [],
      "collapsed_sections": []
    },
    "kernelspec": {
      "name": "python3",
      "display_name": "Python 3"
    },
    "language_info": {
      "name": "python"
    }
  },
  "cells": [
    {
      "cell_type": "code",
      "source": [
        "!pip install cassandra"
      ],
      "metadata": {
        "colab": {
          "base_uri": "https://localhost:8080/"
        },
        "id": "tNFAi-CV3d4T",
        "outputId": "8726cf97-a266-44cf-f941-8e8fbecc419d"
      },
      "execution_count": 3,
      "outputs": [
        {
          "output_type": "stream",
          "name": "stdout",
          "text": [
            "\u001b[31mERROR: Could not find a version that satisfies the requirement cassandra (from versions: none)\u001b[0m\n",
            "\u001b[31mERROR: No matching distribution found for cassandra\u001b[0m\n"
          ]
        }
      ]
    },
    {
      "cell_type": "code",
      "execution_count": 1,
      "metadata": {
        "colab": {
          "base_uri": "https://localhost:8080/",
          "height": 374
        },
        "id": "21kz5UwK29sw",
        "outputId": "3c7284b9-ea23-4f8b-d0e6-6f449b6dfd4e"
      },
      "outputs": [
        {
          "output_type": "error",
          "ename": "ModuleNotFoundError",
          "evalue": "ignored",
          "traceback": [
            "\u001b[0;31m---------------------------------------------------------------------------\u001b[0m",
            "\u001b[0;31mModuleNotFoundError\u001b[0m                       Traceback (most recent call last)",
            "\u001b[0;32m<ipython-input-1-146a3127a200>\u001b[0m in \u001b[0;36m<module>\u001b[0;34m()\u001b[0m\n\u001b[0;32m----> 1\u001b[0;31m \u001b[0;32mfrom\u001b[0m \u001b[0mcassandra\u001b[0m\u001b[0;34m.\u001b[0m\u001b[0mcluster\u001b[0m \u001b[0;32mimport\u001b[0m \u001b[0mCluster\u001b[0m\u001b[0;34m\u001b[0m\u001b[0;34m\u001b[0m\u001b[0m\n\u001b[0m\u001b[1;32m      2\u001b[0m \u001b[0;32mtry\u001b[0m\u001b[0;34m:\u001b[0m\u001b[0;34m\u001b[0m\u001b[0;34m\u001b[0m\u001b[0m\n\u001b[1;32m      3\u001b[0m     \u001b[0mcluster\u001b[0m \u001b[0;34m=\u001b[0m \u001b[0mCluster\u001b[0m\u001b[0;34m(\u001b[0m\u001b[0;34m[\u001b[0m\u001b[0;34m'127.0.0.1'\u001b[0m\u001b[0;34m]\u001b[0m\u001b[0;34m)\u001b[0m \u001b[0;31m#If you have a locally installed Apache Cassandra instance\u001b[0m\u001b[0;34m\u001b[0m\u001b[0;34m\u001b[0m\u001b[0m\n\u001b[1;32m      4\u001b[0m     \u001b[0msession\u001b[0m \u001b[0;34m=\u001b[0m \u001b[0mcluster\u001b[0m\u001b[0;34m.\u001b[0m\u001b[0mconnect\u001b[0m\u001b[0;34m(\u001b[0m\u001b[0;34m)\u001b[0m\u001b[0;34m\u001b[0m\u001b[0;34m\u001b[0m\u001b[0m\n\u001b[1;32m      5\u001b[0m     \u001b[0mprint\u001b[0m\u001b[0;34m(\u001b[0m\u001b[0;34m\"Connection Done!\"\u001b[0m\u001b[0;34m)\u001b[0m\u001b[0;34m\u001b[0m\u001b[0;34m\u001b[0m\u001b[0m\n",
            "\u001b[0;31mModuleNotFoundError\u001b[0m: No module named 'cassandra'",
            "",
            "\u001b[0;31m---------------------------------------------------------------------------\u001b[0;32m\nNOTE: If your import is failing due to a missing package, you can\nmanually install dependencies using either !pip or !apt.\n\nTo view examples of installing some common dependencies, click the\n\"Open Examples\" button below.\n\u001b[0;31m---------------------------------------------------------------------------\u001b[0m\n"
          ],
          "errorDetails": {
            "actions": [
              {
                "action": "open_url",
                "actionText": "Open Examples",
                "url": "/notebooks/snippets/importing_libraries.ipynb"
              }
            ]
          }
        }
      ],
      "source": [
        "from cassandra.cluster import Cluster\n",
        "try: \n",
        "    cluster = Cluster(['127.0.0.1']) #If you have a locally installed Apache Cassandra instance\n",
        "    session = cluster.connect()\n",
        "    print(\"Connection Done!\")\n",
        "except Exception as e:\n",
        "    print(e)"
      ]
    },
    {
      "cell_type": "code",
      "source": [
        ""
      ],
      "metadata": {
        "id": "w-Q41ZJB3dLM"
      },
      "execution_count": null,
      "outputs": []
    },
    {
      "cell_type": "code",
      "source": [
        "try:\n",
        "    session.execute(\"\"\"\n",
        "    CREATE KEYSPACE IF NOT EXISTS Technocolabs\n",
        "    WITH REPLICATION = \n",
        "    { 'class' : 'SimpleStrategy', 'replication_factor' : 1 }\"\"\")\n",
        "    session.execute(\"\"\"use Technocolabs;\"\"\")\n",
        "    print(\"creating keyspace Done!\")\n",
        "except Exception as e:\n",
        "    print(e)"
      ],
      "metadata": {
        "id": "6sLPod4w2_Zw"
      },
      "execution_count": null,
      "outputs": []
    },
    {
      "cell_type": "code",
      "source": [
        "query = \"CREATE TABLE IF NOT EXISTS SONGS\n",
        "query = query + \"(year int, artist_name text, song_title text, album_name text, single boolean, PRIMARY KEY (year, artist_name))\"\n",
        "try:\n",
        "    session.execute(query)\n",
        "    print(\"Table Creation Done!\")\n",
        "except Exception as e:\n",
        "    print(e)"
      ],
      "metadata": {
        "id": "RX116DEj3MgL"
      },
      "execution_count": null,
      "outputs": []
    },
    {
      "cell_type": "code",
      "source": [
        "query = \"INSERT INTO songs (album_name, artist_name, year, single, song_title)\" \n",
        "query = query + \" VALUES (%s, %s, %s, %s, %s)\"\n",
        "\n",
        "try:\n",
        "    session.execute(query, (\"Across The Universe\", \"The Beatles\", 1970, False, \"Let It Be\"))\n",
        "    print(\"Row inserted!\")\n",
        "except Exception as e:\n",
        "    print(e)\n",
        "    \n",
        "try:\n",
        "    session.execute(query, (\"The Beatles\", \"Think For Yourself\", 1965, False, \"Rubber Soul\"))\n",
        "    print(\"Row inserted!\")\n",
        "except Exception as e:\n",
        "    print(e)"
      ],
      "metadata": {
        "id": "QbqfMVGI3Pkn"
      },
      "execution_count": null,
      "outputs": []
    },
    {
      "cell_type": "code",
      "source": [
        "query = 'SELECT * FROM songs'\n",
        "try:\n",
        "    rows = session.execute(query)\n",
        "    print(\"Rows insertion done!\")\n",
        "except Exception as e:\n",
        "    print(e)\n",
        "    \n",
        "for row in rows:\n",
        "    print (row.year, row.album_name, row.artist_name)"
      ],
      "metadata": {
        "id": "8so6uXI23STF"
      },
      "execution_count": null,
      "outputs": []
    },
    {
      "cell_type": "code",
      "source": [
        "query = \"select * from songs WHERE YEAR=1970 AND artist_name='The Beatles'\"\n",
        "try:\n",
        "    rows = session.execute(query)\n",
        "except Exception as e:\n",
        "    print(e)\n",
        "    \n",
        "for row in rows:\n",
        "    print (row.year, row.album_name, row.artist_name)"
      ],
      "metadata": {
        "id": "hhgyEtjq3UiH"
      },
      "execution_count": null,
      "outputs": []
    },
    {
      "cell_type": "code",
      "source": [
        "session.shutdown()\n",
        "cluster.shutdown()\n",
        "print(\"Done!\")"
      ],
      "metadata": {
        "id": "Cv8SbRZ83ZCv"
      },
      "execution_count": null,
      "outputs": []
    }
  ]
}